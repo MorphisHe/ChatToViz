{
 "cells": [
  {
   "cell_type": "code",
   "execution_count": 2,
   "metadata": {},
   "outputs": [],
   "source": [
    "import pandas as pd\n",
    "import matplotlib.pyplot as plt\n",
    "from bs4 import BeautifulSoup"
   ]
  },
  {
   "cell_type": "code",
   "execution_count": 5,
   "metadata": {},
   "outputs": [],
   "source": [
    "with open('nvBench/nvBench_VegaLite/VIS_1.html', 'r') as f:\n",
    "    html_string = f.read()\n",
    "\n",
    "# use pandas to read the HTML table into a list of DataFrames\n",
    "dfs = pd.read_html(html_string)\n"
   ]
  },
  {
   "cell_type": "code",
   "execution_count": 3,
   "metadata": {},
   "outputs": [],
   "source": [
    "def extractPromptsData(htmlPath):\n",
    "    with open(htmlPath, 'r') as file:\n",
    "        html = file.read()\n",
    "    dfs = pd.read_html(htmlPath)\n",
    "    df = dfs[1]\n",
    "\n",
    "    return df"
   ]
  },
  {
   "cell_type": "code",
   "execution_count": 267,
   "metadata": {},
   "outputs": [
    {
     "name": "stdout",
     "output_type": "stream",
     "text": [
      "107\n"
     ]
    }
   ],
   "source": [
    "df = extractPromptsData('nvBench/nvBench_VegaLite/VIS_52.html')\n",
    "print(df.shape[0])"
   ]
  },
  {
   "cell_type": "code",
   "execution_count": 274,
   "metadata": {},
   "outputs": [],
   "source": [
    "df = pd.read_csv('metricVis.csv')"
   ]
  },
  {
   "cell_type": "code",
   "execution_count": 278,
   "metadata": {},
   "outputs": [],
   "source": [
    "medium = df.loc[df['Hardness']=='Medium']\n",
    "easy = df.loc[df['Hardness']=='Easy']\n",
    "hard = df.loc[df['Hardness']=='Hard']\n",
    "extraHard = df.loc[df['Hardness']=='Extra Hard']"
   ]
  },
  {
   "cell_type": "code",
   "execution_count": 283,
   "metadata": {},
   "outputs": [
    {
     "name": "stdout",
     "output_type": "stream",
     "text": [
      "0.4074074074074074\n",
      "Succesful: 11.0\n",
      "Total: 27\n"
     ]
    }
   ],
   "source": [
    "print(extraHard['SuccessPrompts'].sum()/ extraHard['NumPrompts'].sum())\n",
    "print(\"Succesful: \"+str(extraHard['SuccessPrompts'].sum()))\n",
    "print(\"Total: \"+str(extraHard['NumPrompts'].sum()))"
   ]
  },
  {
   "cell_type": "code",
   "execution_count": 284,
   "metadata": {},
   "outputs": [
    {
     "name": "stdout",
     "output_type": "stream",
     "text": [
      "0.47959183673469385\n",
      "Succesful: 23.5\n",
      "Total: 49\n"
     ]
    }
   ],
   "source": [
    "print(hard['SuccessPrompts'].sum()/ hard['NumPrompts'].sum())\n",
    "print(\"Succesful: \"+str(hard['SuccessPrompts'].sum()))\n",
    "print(\"Total: \"+str(hard['NumPrompts'].sum()))"
   ]
  },
  {
   "cell_type": "code",
   "execution_count": 285,
   "metadata": {},
   "outputs": [
    {
     "name": "stdout",
     "output_type": "stream",
     "text": [
      "0.6271186440677966\n",
      "Succesful: 37.0\n",
      "Total: 59\n"
     ]
    }
   ],
   "source": [
    "print(medium['SuccessPrompts'].sum()/ medium['NumPrompts'].sum())\n",
    "print(\"Succesful: \"+str(medium['SuccessPrompts'].sum()))\n",
    "print(\"Total: \"+str(medium['NumPrompts'].sum()))"
   ]
  },
  {
   "cell_type": "code",
   "execution_count": 286,
   "metadata": {},
   "outputs": [
    {
     "name": "stdout",
     "output_type": "stream",
     "text": [
      "0.825\n",
      "Succesful: 33.0\n",
      "Total: 40\n"
     ]
    }
   ],
   "source": [
    "print(easy['SuccessPrompts'].sum()/ easy['NumPrompts'].sum())\n",
    "print(\"Succesful: \"+str(easy['SuccessPrompts'].sum()))\n",
    "print(\"Total: \"+str(easy['NumPrompts'].sum()))"
   ]
  },
  {
   "cell_type": "code",
   "execution_count": 289,
   "metadata": {},
   "outputs": [],
   "source": [
    "bar = df.loc[df['Chart']=='Bar']\n",
    "scatter = df.loc[df['Chart']=='Scatter']\n",
    "stacked = df.loc[df['Chart']=='Stacked Bar']\n",
    "line = df.loc[df['Chart']=='Line']\n",
    "pie = df.loc[df['Chart']=='Pie']"
   ]
  },
  {
   "cell_type": "code",
   "execution_count": 290,
   "metadata": {},
   "outputs": [
    {
     "name": "stdout",
     "output_type": "stream",
     "text": [
      "0.644\n",
      "Succesful: 80.5\n",
      "Total: 125\n"
     ]
    }
   ],
   "source": [
    "print(bar['SuccessPrompts'].sum()/ bar['NumPrompts'].sum())\n",
    "print(\"Succesful: \"+str(bar['SuccessPrompts'].sum()))\n",
    "print(\"Total: \"+str(bar['NumPrompts'].sum()))"
   ]
  },
  {
   "cell_type": "code",
   "execution_count": 291,
   "metadata": {},
   "outputs": [
    {
     "name": "stdout",
     "output_type": "stream",
     "text": [
      "0.75\n",
      "Succesful: 9.0\n",
      "Total: 12\n"
     ]
    }
   ],
   "source": [
    "print(scatter['SuccessPrompts'].sum()/ scatter['NumPrompts'].sum())\n",
    "print(\"Succesful: \"+str(scatter['SuccessPrompts'].sum()))\n",
    "print(\"Total: \"+str(scatter['NumPrompts'].sum()))"
   ]
  },
  {
   "cell_type": "code",
   "execution_count": 292,
   "metadata": {},
   "outputs": [
    {
     "name": "stdout",
     "output_type": "stream",
     "text": [
      "0.0\n",
      "Succesful: 0.0\n",
      "Total: 6\n"
     ]
    }
   ],
   "source": [
    "print(stacked['SuccessPrompts'].sum()/ stacked['NumPrompts'].sum())\n",
    "print(\"Succesful: \"+str(stacked['SuccessPrompts'].sum()))\n",
    "print(\"Total: \"+str(stacked['NumPrompts'].sum()))"
   ]
  },
  {
   "cell_type": "code",
   "execution_count": 293,
   "metadata": {},
   "outputs": [
    {
     "name": "stdout",
     "output_type": "stream",
     "text": [
      "0.2727272727272727\n",
      "Succesful: 3.0\n",
      "Total: 11\n"
     ]
    }
   ],
   "source": [
    "print(line['SuccessPrompts'].sum()/ line['NumPrompts'].sum())\n",
    "print(\"Succesful: \"+str(line['SuccessPrompts'].sum()))\n",
    "print(\"Total: \"+str(line['NumPrompts'].sum()))"
   ]
  },
  {
   "cell_type": "code",
   "execution_count": 294,
   "metadata": {},
   "outputs": [
    {
     "name": "stdout",
     "output_type": "stream",
     "text": [
      "0.5714285714285714\n",
      "Succesful: 12.0\n",
      "Total: 21\n"
     ]
    }
   ],
   "source": [
    "print(pie['SuccessPrompts'].sum()/ pie['NumPrompts'].sum())\n",
    "print(\"Succesful: \"+str(pie['SuccessPrompts'].sum()))\n",
    "print(\"Total: \"+str(pie['NumPrompts'].sum()))"
   ]
  },
  {
   "cell_type": "code",
   "execution_count": 295,
   "metadata": {},
   "outputs": [
    {
     "name": "stdout",
     "output_type": "stream",
     "text": [
      "0.5971428571428572\n",
      "Succesful: 104.5\n",
      "Total: 175\n"
     ]
    }
   ],
   "source": [
    "print(df['SuccessPrompts'].sum()/ df['NumPrompts'].sum())\n",
    "print(\"Succesful: \"+str(df['SuccessPrompts'].sum()))\n",
    "print(\"Total: \"+str(df['NumPrompts'].sum()))"
   ]
  },
  {
   "cell_type": "code",
   "execution_count": null,
   "metadata": {},
   "outputs": [],
   "source": []
  }
 ],
 "metadata": {
  "kernelspec": {
   "display_name": "base",
   "language": "python",
   "name": "python3"
  },
  "language_info": {
   "codemirror_mode": {
    "name": "ipython",
    "version": 3
   },
   "file_extension": ".py",
   "mimetype": "text/x-python",
   "name": "python",
   "nbconvert_exporter": "python",
   "pygments_lexer": "ipython3",
   "version": "3.9.13"
  },
  "orig_nbformat": 4
 },
 "nbformat": 4,
 "nbformat_minor": 2
}
